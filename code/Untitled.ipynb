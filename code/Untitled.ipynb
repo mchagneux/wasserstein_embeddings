{
 "cells": [
  {
   "cell_type": "code",
   "execution_count": null,
   "metadata": {},
   "outputs": [],
   "source": [
    "a1 = np.array([0.,0.])\n",
    "b1 = np.array([0.1,0.1])\n",
    "c1 = np.array([0.2,0.2])\n",
    "d1 = np.array([-0.1,-0.1])\n",
    "\n",
    "A = [a1,b1,c1,d1]\n",
    "\n",
    "B = [a2,b2,c2]\n",
    "\n",
    "a2 = np.array([0.,0.])\n",
    "b2 = np.array([0.05,0.05])\n",
    "c2 = np.array([0.2,0.2])\n",
    "\n",
    "x = torch.tensor([a1,b1,c1,d1]).unsqueeze(1)\n",
    "y = torch.tensor([a2,b2,c2]).unsqueeze(0)\n",
    "\n",
    "D = np.zeros(shape=(4,3))\n",
    "\n",
    "for i in range(4):\n",
    "    for j in range(3):\n",
    "        D[i,j] = np.linalg.norm(A[i]-B[j],2) ** 2\n",
    "        \n",
    "entropy_regularized_wasserstein_distance(x,y,0.05,20,3)"
   ]
  }
 ],
 "metadata": {
  "kernelspec": {
   "display_name": "Python 3",
   "language": "python",
   "name": "python3"
  },
  "language_info": {
   "codemirror_mode": {
    "name": "ipython",
    "version": 3
   },
   "file_extension": ".py",
   "mimetype": "text/x-python",
   "name": "python",
   "nbconvert_exporter": "python",
   "pygments_lexer": "ipython3",
   "version": "3.7.3"
  }
 },
 "nbformat": 4,
 "nbformat_minor": 4
}
